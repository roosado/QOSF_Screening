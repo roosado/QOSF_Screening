{
 "cells": [
  {
   "cell_type": "code",
   "execution_count": 2,
   "metadata": {},
   "outputs": [],
   "source": [
    "import qiskit as q\n",
    "import numpy as np"
   ]
  },
  {
   "cell_type": "markdown",
   "metadata": {},
   "source": [
    "Input any vector of positive integer values of any lenght.\n",
    "\n",
    "The values in the vector will be converted into binary. The lenght of the highest value in the vector is saved as 'm'. This will determine what vectors will be traced in following steps. "
   ]
  },
  {
   "cell_type": "code",
   "execution_count": 27,
   "metadata": {},
   "outputs": [
    {
     "name": "stdout",
     "output_type": "stream",
     "text": [
      "Your vector of numbers in binary is: ['1', '101', '110', '1010']\n",
      "\n",
      "Its lenght is l=4 and the minimum number of bits needed to represent any index on your list is n=2\n"
     ]
    }
   ],
   "source": [
    "#Define the input vector in the next variable\n",
    "vector = [1,5,6,10]\n",
    "\n",
    "#Obtain the input vector in binary values\n",
    "binary= [bin(int(i))[2:] for i in vector]\n",
    "\n",
    "#Check the highest value in the vector. This is 'm'.\n",
    "f=0\n",
    "num_max=0\n",
    "for i in binary:\n",
    "    if int(i)>= int(f):\n",
    "        num_max=i\n",
    "    f=num_max\n",
    "    \n",
    "m=len(num_max)\n",
    "l=len(binary)\n",
    "n=int(np.ceil(np.log2(l)))\n",
    "\n",
    "print('Your vector of numbers in binary is:', binary)\n",
    "print()\n",
    "print('Its lenght is l='+str(l), 'and the minimum number of bits needed to represent any index on your list is n='+str(n))"
   ]
  },
  {
   "cell_type": "markdown",
   "metadata": {},
   "source": [
    "The following cell builds the list 'good_state' and formats it for ease of use later in the solution. This list, as the name suggests, contains states deemed 'good' by our condition that they should not have two equal adjacent bits."
   ]
  },
  {
   "cell_type": "code",
   "execution_count": 28,
   "metadata": {},
   "outputs": [],
   "source": [
    "#Use itertools' product function to obtain all the possible bitstrings of lenght 'm' \n",
    "#as parts in a 2D matrix\n",
    "\n",
    "from itertools import product\n",
    "\n",
    "good_state=[i for i in product('01',repeat=m)]\n",
    "\n",
    "\n",
    "#These block of loops clears up the unwanted binary values (those that have consecutive 1's or 0's)\n",
    "for ii in range(m-1):\n",
    "    i=0\n",
    "    while i< len(good_state):\n",
    "        if good_state[i][ii]==good_state[i][ii+1]:\n",
    "            good_state.pop(i)\n",
    "        else:\n",
    "            i+=1\n",
    "\n",
    "#Combine the parts left into bitstrings\n",
    "good_state=[''.join(i) for i in good_state]\n",
    "\n",
    "#This makes sure there's no 0's in front of the states\n",
    "good_state=[str(int(i)) for i in good_state]"
   ]
  },
  {
   "cell_type": "markdown",
   "metadata": {},
   "source": [
    "The following section executes Grover's algorithm to find the correct states in the input list. It prints the index of the correct state, and what the state is."
   ]
  },
  {
   "cell_type": "code",
   "execution_count": 29,
   "metadata": {},
   "outputs": [
    {
     "name": "stdout",
     "output_type": "stream",
     "text": [
      "Success!\n",
      "Index: 01\n",
      "State: 0101\n",
      "\n",
      "Success!\n",
      "Index: 11\n",
      "State: 1010\n",
      "\n"
     ]
    }
   ],
   "source": [
    "from qiskit.algorithms import AmplificationProblem\n",
    "from qiskit.quantum_info import Statevector\n",
    "from qiskit.algorithms import Grover\n",
    "save_index=[]\n",
    "\n",
    "for state in good_state:\n",
    "\n",
    "    oracle = Statevector.from_label(state)\n",
    "    problem = AmplificationProblem(oracle, is_good_state=binary)\n",
    "\n",
    "    aer_simulator = q.Aer.get_backend('aer_simulator')\n",
    "    grover = Grover(quantum_instance=aer_simulator)\n",
    "    result = grover.amplify(problem)\n",
    "    print('Success!' if result.oracle_evaluation else 'Failure!')\n",
    "    try:\n",
    "        index=bin(binary.index(state))[2:]\n",
    "\n",
    "\n",
    "\n",
    "        if result.oracle_evaluation:\n",
    "            save_index.append(list('{:{size}}'.format(int(index,2),size='0'+str(n)+'b')))\n",
    "\n",
    "        print('Index: {:{size}}'.format(int(index,2), size='0'+str(n)+'b'))\n",
    "        print('State: {:{size}}'.format(int(state,2), size='0'+str(m)+'b'))\n",
    "    except ValueError:\n",
    "        print('State {:{size}} is not on the list'.format(int(state,2), size='0'+str(m)+'b'))\n",
    "    print()"
   ]
  },
  {
   "cell_type": "markdown",
   "metadata": {},
   "source": [
    "This next cell will transform the binary value index into vectors. For example, lets use the index '01' \n",
    "\n",
    "$$\n",
    "    01\\rightarrow\\begin{bmatrix}1\\\\0\\end{bmatrix}\\begin{bmatrix}0\\\\1\\end{bmatrix}\\rightarrow|01\\rangle\n",
    "$$"
   ]
  },
  {
   "cell_type": "code",
   "execution_count": 30,
   "metadata": {},
   "outputs": [
    {
     "name": "stdout",
     "output_type": "stream",
     "text": [
      "[['0', '1'], ['1', '1']]\n",
      "[[[1, 0], [0, 1]], [[0, 1], [0, 1]]]\n"
     ]
    }
   ],
   "source": [
    "print(save_index)\n",
    "for j in range(len(save_index)):\n",
    "    for i in range(len(save_index[j])):\n",
    "        if int(save_index[j][i])==0:\n",
    "            save_index[j][i]=[1,0]\n",
    "        else:\n",
    "            save_index[j][i]=[0,1]\n",
    "print(save_index)"
   ]
  },
  {
   "cell_type": "markdown",
   "metadata": {},
   "source": [
    "The function built in the next cell builds a statevector out of the index vectors so a quantum circuit can be initialized with it. For this, the tensor product of the index vectors is evaluated, and the result is then reshaped and normalized."
   ]
  },
  {
   "cell_type": "code",
   "execution_count": 31,
   "metadata": {},
   "outputs": [],
   "source": [
    "def indices_to_sv(save_index):\n",
    "    try:\n",
    "        sv1=np.tensordot(save_index[0][0],save_index[0][1],axes=0)\n",
    "        sv1=np.concatenate([sv1[0],sv1[1]])\n",
    "        for i in range(len(save_index[0])-2):\n",
    "            sv1=np.tensordot(sv1,save_index[0][i+2],axes=0)\n",
    "            sv1=np.reshape(sv1, -1)\n",
    "\n",
    "        sv2=np.tensordot(save_index[1][0],save_index[1][1],axes=0)\n",
    "        sv2=np.concatenate([sv2[0],sv2[1]])\n",
    "        for j in range(len(save_index[0])-2):\n",
    "            sv2=np.tensordot(sv2,save_index[1][j+2],axes=0)\n",
    "            sv2=np.reshape(sv2, -1)\n",
    "\n",
    "        sv=sv1+sv2\n",
    "        norm_sv = sv/np.linalg.norm(sv)\n",
    "        return norm_sv\n",
    "    \n",
    "    except IndexError:\n",
    "        sv1=np.tensordot(save_index[0][0],save_index[0][1],axes=0)\n",
    "        sv1=np.concatenate([sv1[0],sv1[1]])\n",
    "        for i in range(len(save_index[0])-2):\n",
    "            sv1=np.tensordot(sv1,save_index[0][i+2],axes=0)\n",
    "            sv1=np.reshape(sv1, -1)\n",
    "        return sv1"
   ]
  },
  {
   "cell_type": "code",
   "execution_count": 46,
   "metadata": {},
   "outputs": [
    {
     "name": "stdout",
     "output_type": "stream",
     "text": [
      "The statevector that describes the indices of the good numbers in your original list is \n",
      " [0.         0.70710678 0.         0.70710678]\n"
     ]
    }
   ],
   "source": [
    "norm_sv=indices_to_sv(save_index)\n",
    "print('The statevector that describes the indices of the good numbers in your original list is \\n',norm_sv)"
   ]
  },
  {
   "cell_type": "markdown",
   "metadata": {},
   "source": [
    "Finally, the results are used to initialize a quantum circuit that can then be simulated in the 'statevector_simulator' backend, and the results are visualized in a histogram."
   ]
  },
  {
   "cell_type": "code",
   "execution_count": 47,
   "metadata": {},
   "outputs": [
    {
     "data": {
      "image/png": "[encoded data removed]",
      "text/plain": [
       "<Figure size 504x360 with 1 Axes>"
      ]
     },
     "metadata": {},
     "output_type": "display_data"
    },
    {
     "name": "stdout",
     "output_type": "stream",
     "text": [
      "[0.        +0.j 0.70710678+0.j 0.        +0.j 0.70710678+0.j]\n"
     ]
    }
   ],
   "source": [
    "from qiskit import QuantumCircuit\n",
    "\n",
    "qc=QuantumCircuit(n)\n",
    "qc.initialize(norm_sv)\n",
    "\n",
    "simulator = q.Aer.get_backend('statevector_simulator')\n",
    "result = q.execute(qc, simulator).result()\n",
    "counts=result.get_counts()\n",
    "plot=q.visualization.plot_histogram(counts)\n",
    "display(plot)\n",
    "statevector = result.get_statevector()\n",
    "print(statevector)"
   ]
  }
 ],
 "metadata": {
  "kernelspec": {
   "display_name": "Python 3",
   "language": "python",
   "name": "python3"
  },
  "language_info": {
   "codemirror_mode": {
    "name": "ipython",
    "version": 3
   },
   "file_extension": ".py",
   "mimetype": "text/x-python",
   "name": "python",
   "nbconvert_exporter": "python",
   "pygments_lexer": "ipython3",
   "version": "3.8.3"
  }
 },
 "nbformat": 4,
 "nbformat_minor": 4
}

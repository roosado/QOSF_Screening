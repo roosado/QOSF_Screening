{
 "cells": [
  {
   "cell_type": "code",
   "execution_count": 2,
   "metadata": {},
   "outputs": [],
   "source": [
    "import qiskit as q\n"
   ]
  },
  {
   "cell_type": "code",
   "execution_count": 226,
   "metadata": {},
   "outputs": [],
   "source": [
    "#Define the input vector in the next variable\n",
    "numeros = [1,5,7,10]\n",
    "\n",
    "#Obtain the input vector in binary values\n",
    "binary= [bin(int(i))[2:] for i in numeros]\n",
    "\n",
    "#Check the highest value in the vector. This is 'm'.\n",
    "f=0\n",
    "num_max=0\n",
    "for i in binary:\n",
    "    if int(i)>= int(f):\n",
    "        num_max=i\n",
    "    f=num_max\n",
    "    \n",
    "m=len(num_max)"
   ]
  },
  {
   "cell_type": "code",
   "execution_count": 227,
   "metadata": {},
   "outputs": [
    {
     "name": "stdout",
     "output_type": "stream",
     "text": [
      "['1', '101', '111', '1010']\n",
      "4\n",
      "2\n"
     ]
    }
   ],
   "source": [
    "print(binary)\n",
    "print(len(binary))\n",
    "\n",
    "n=int(np.ceil(np.log2(len(binary))))\n",
    "print(n)"
   ]
  },
  {
   "cell_type": "code",
   "execution_count": 228,
   "metadata": {},
   "outputs": [],
   "source": [
    "#Use itertools' product function to obtain all the possible bitstrings of lenght 'm' \n",
    "#as parts in a 2D matrix\n",
    "\n",
    "from itertools import product\n",
    "\n",
    "good_state=[i for i in product('01',repeat=m)]\n",
    "\n",
    "\n",
    "#These block of loops clears up the unwanted  (those that have consecutive 1's or 0's)\n",
    "for ii in range(m-1):\n",
    "    i=0\n",
    "    while i< len(good_state):\n",
    "        if good_state[i][ii]==good_state[i][ii+1]:\n",
    "            good_state.pop(i)\n",
    "        else:\n",
    "            i+=1\n",
    "\n",
    "#Combine the parts left into bitstrings\n",
    "good_state=[''.join(i) for i in good_state]"
   ]
  },
  {
   "cell_type": "code",
   "execution_count": 229,
   "metadata": {},
   "outputs": [],
   "source": [
    "#This makes sure there's no 0's in front of the states\n",
    "\n",
    "good_state=[str(int(i)) for i in good_state]"
   ]
  },
  {
   "cell_type": "markdown",
   "metadata": {},
   "source": [
    "The following section executes Grover's algorithm to find the correct states in the input list. It prints the index of the correct state, and what is the state is. If it fails to find one of the states it prints what state it failed to find."
   ]
  },
  {
   "cell_type": "code",
   "execution_count": 230,
   "metadata": {},
   "outputs": [
    {
     "name": "stdout",
     "output_type": "stream",
     "text": [
      "Success!\n",
      "Index: 01\n",
      "State: 0101\n",
      "\n",
      "Success!\n",
      "Index: 11\n",
      "State: 1010\n",
      "\n"
     ]
    }
   ],
   "source": [
    "from qiskit.algorithms import AmplificationProblem\n",
    "from qiskit.quantum_info import Statevector\n",
    "from qiskit.algorithms import Grover\n",
    "save_index=[]\n",
    "\n",
    "for state in good_state:\n",
    "\n",
    "    oracle = Statevector.from_label(state)\n",
    "    problem = AmplificationProblem(oracle, is_good_state=binary)\n",
    "\n",
    "    aer_simulator = q.Aer.get_backend('aer_simulator')\n",
    "    grover = Grover(quantum_instance=aer_simulator)\n",
    "    result = grover.amplify(problem)\n",
    "    index=bin(binary.index(state))[2:]\n",
    "    \n",
    "    \n",
    "    print('Success!' if result.oracle_evaluation else 'Failure!')\n",
    "    if result.oracle_evaluation:\n",
    "        save_index.append(list('{:{size}}'.format(int(index,2),size='0'+str(n)+'b')))\n",
    "    try:\n",
    "        print('Index: {:{size}}'.format(int(index,2), size='0'+str(n)+'b'))\n",
    "        print('State: {:{size}}'.format(int(state,2), size='0'+str(m)+'b'))\n",
    "    except:\n",
    "        print('State {:{size}} is not on the list'.format(int(state,2), size='0'+str(m)+'b'))\n",
    "    print()"
   ]
  },
  {
   "cell_type": "code",
   "execution_count": 120,
   "metadata": {},
   "outputs": [],
   "source": [
    "from qiskit import QuantumCircuit\n",
    "from qiskit.visualization import plot_state_qsphere\n",
    "from qiskit.quantum_info import random_statevector"
   ]
  },
  {
   "cell_type": "code",
   "execution_count": 217,
   "metadata": {},
   "outputs": [],
   "source": [
    "import numpy as np\n",
    "            \n",
    "\n",
    "sv=np.array([ 0+0j, 1/np.sqrt(2)+0j, 0+0j, 1/np.sqrt(2)+0j ])"
   ]
  },
  {
   "cell_type": "code",
   "execution_count": 141,
   "metadata": {},
   "outputs": [
    {
     "data": {
      "image/png": "[encoded data removed]",
      "text/plain": [
       "<Figure size 206.852x144.48 with 1 Axes>"
      ]
     },
     "execution_count": 141,
     "metadata": {},
     "output_type": "execute_result"
    }
   ],
   "source": [
    "qc=QuantumCircuit(2)\n",
    "qc.initialize(sv, [0,1])\n",
    "qc.draw('mpl')"
   ]
  },
  {
   "cell_type": "code",
   "execution_count": 144,
   "metadata": {},
   "outputs": [
    {
     "data": {
      "image/png": "[encoded data removed]",
      "text/plain": [
       "<Figure size 504x360 with 1 Axes>"
      ]
     },
     "metadata": {},
     "output_type": "display_data"
    },
    {
     "name": "stdout",
     "output_type": "stream",
     "text": [
      "[0.        +0.j 0.70710678+0.j 0.        +0.j 0.70710678+0.j]\n"
     ]
    }
   ],
   "source": [
    "simulator = q.Aer.get_backend('statevector_simulator')\n",
    "result = q.execute(qc, simulator).result()\n",
    "counts=result.get_counts()\n",
    "plot=q.visualization.plot_histogram(counts)\n",
    "display(plot)\n",
    "statevector = result.get_statevector()\n",
    "print(statevector)"
   ]
  },
  {
   "cell_type": "code",
   "execution_count": 234,
   "metadata": {},
   "outputs": [
    {
     "name": "stdout",
     "output_type": "stream",
     "text": [
      "[['0', '1'], ['1', '1']]\n"
     ]
    }
   ],
   "source": [
    "print(save_index)\n",
    "\n",
    "save_indexx=[[1,0] if x==0 else [0,1] for x in save_index[0]]"
   ]
  },
  {
   "cell_type": "code",
   "execution_count": 247,
   "metadata": {},
   "outputs": [
    {
     "data": {
      "text/plain": [
       "[4, 2, 3, 4, 3, 2, 4, 4]"
      ]
     },
     "execution_count": 247,
     "metadata": {},
     "output_type": "execute_result"
    }
   ],
   "source": [
    "save_index\n",
    "\n",
    "[[[1,0],[0,1] if x==1 else x for x in a]"
   ]
  }
 ],
 "metadata": {
  "kernelspec": {
   "display_name": "Python 3",
   "language": "python",
   "name": "python3"
  },
  "language_info": {
   "codemirror_mode": {
    "name": "ipython",
    "version": 3
   },
   "file_extension": ".py",
   "mimetype": "text/x-python",
   "name": "python",
   "nbconvert_exporter": "python",
   "pygments_lexer": "ipython3",
   "version": "3.8.3"
  }
 },
 "nbformat": 4,
 "nbformat_minor": 4
}

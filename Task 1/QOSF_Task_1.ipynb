{
 "cells": [
  {
   "cell_type": "code",
   "execution_count": 3,
   "metadata": {},
   "outputs": [],
   "source": [
    "import qiskit as q\n",
    "import numpy as np"
   ]
  },
  {
   "cell_type": "code",
   "execution_count": 23,
   "metadata": {},
   "outputs": [],
   "source": [
    "#Define the input vector in the next variable\n",
    "numeros = [10,5,7,1,42,21,54,23,45,63,55,33,37,69]\n",
    "\n",
    "#Obtain the input vector in binary values\n",
    "binary= [bin(int(i))[2:] for i in numeros]\n",
    "\n",
    "#Check the highest value in the vector. This is 'm'.\n",
    "f=0\n",
    "num_max=0\n",
    "for i in binary:\n",
    "    if int(i)>= int(f):\n",
    "        num_max=i\n",
    "    f=num_max\n",
    "    \n",
    "m=len(num_max)"
   ]
  },
  {
   "cell_type": "code",
   "execution_count": 24,
   "metadata": {},
   "outputs": [
    {
     "name": "stdout",
     "output_type": "stream",
     "text": [
      "['1010', '101', '111', '1', '101010', '10101', '110110', '10111', '101101', '111111', '110111', '100001', '100101', '1000101']\n",
      "14\n",
      "4\n"
     ]
    }
   ],
   "source": [
    "print(binary)\n",
    "\n",
    "l=len(binary)\n",
    "print(l)\n",
    "\n",
    "n=int(np.ceil(np.log2(l)))\n",
    "print(n)"
   ]
  },
  {
   "cell_type": "code",
   "execution_count": 25,
   "metadata": {},
   "outputs": [],
   "source": [
    "#Use itertools' product function to obtain all the possible bitstrings of lenght 'm' \n",
    "#as parts in a 2D matrix\n",
    "\n",
    "from itertools import product\n",
    "\n",
    "good_state=[i for i in product('01',repeat=m)]\n",
    "\n",
    "\n",
    "#These block of loops clears up the unwanted  (those that have consecutive 1's or 0's)\n",
    "for ii in range(m-1):\n",
    "    i=0\n",
    "    while i< len(good_state):\n",
    "        if good_state[i][ii]==good_state[i][ii+1]:\n",
    "            good_state.pop(i)\n",
    "        else:\n",
    "            i+=1\n",
    "\n",
    "#Combine the parts left into bitstrings\n",
    "good_state=[''.join(i) for i in good_state]"
   ]
  },
  {
   "cell_type": "code",
   "execution_count": 26,
   "metadata": {},
   "outputs": [],
   "source": [
    "#This makes sure there's no 0's in front of the states\n",
    "\n",
    "good_state=[str(int(i)) for i in good_state]"
   ]
  },
  {
   "cell_type": "markdown",
   "metadata": {},
   "source": [
    "The following section executes Grover's algorithm to find the correct states in the input list. It prints the index of the correct state, and what is the state is. If it fails to find one of the states it prints what state it failed to find."
   ]
  },
  {
   "cell_type": "code",
   "execution_count": 27,
   "metadata": {},
   "outputs": [
    {
     "name": "stdout",
     "output_type": "stream",
     "text": [
      "Success!\n",
      "Index: 0100\n",
      "State: 0101010\n",
      "\n",
      "State 1010101 is not on the list\n",
      "\n"
     ]
    }
   ],
   "source": [
    "from qiskit.algorithms import AmplificationProblem\n",
    "from qiskit.quantum_info import Statevector\n",
    "from qiskit.algorithms import Grover\n",
    "save_index=[]\n",
    "\n",
    "for state in good_state:\n",
    "\n",
    "    oracle = Statevector.from_label(state)\n",
    "    problem = AmplificationProblem(oracle, is_good_state=binary)\n",
    "\n",
    "    aer_simulator = q.Aer.get_backend('aer_simulator')\n",
    "    grover = Grover(quantum_instance=aer_simulator)\n",
    "    result = grover.amplify(problem)\n",
    "    try:\n",
    "        index=bin(binary.index(state))[2:]\n",
    "    \n",
    "    \n",
    "        print('Success!' if result.oracle_evaluation else 'Failure!')\n",
    "        if result.oracle_evaluation:\n",
    "            save_index.append(list('{:{size}}'.format(int(index,2),size='0'+str(n)+'b')))\n",
    "\n",
    "        print('Index: {:{size}}'.format(int(index,2), size='0'+str(n)+'b'))\n",
    "        print('State: {:{size}}'.format(int(state,2), size='0'+str(m)+'b'))\n",
    "    except:\n",
    "        print('State {:{size}} is not on the list'.format(int(state,2), size='0'+str(m)+'b'))\n",
    "    print()"
   ]
  },
  {
   "cell_type": "code",
   "execution_count": 28,
   "metadata": {},
   "outputs": [
    {
     "name": "stdout",
     "output_type": "stream",
     "text": [
      "[['0', '1', '0', '0']]\n",
      "[[[1, 0], [0, 1], [1, 0], [1, 0]]]\n"
     ]
    }
   ],
   "source": [
    "print(save_index)\n",
    "for j in range(len(save_index)):\n",
    "    for i in range(len(save_index[j])):\n",
    "        if int(save_index[j][i])==0:\n",
    "            save_index[j][i]=[1,0]\n",
    "        else:\n",
    "            save_index[j][i]=[0,1]\n",
    "print(save_index)"
   ]
  },
  {
   "cell_type": "code",
   "execution_count": 31,
   "metadata": {},
   "outputs": [],
   "source": [
    "def indices_to_sv(save_index):\n",
    "    try:\n",
    "        sv1=np.tensordot(save_index[0][0],save_index[0][1],axes=0)\n",
    "        sv1=np.concatenate([sv1[0],sv1[1]])\n",
    "        for i in range(len(save_index[0])-2):\n",
    "            sv1=np.tensordot(sv1,save_index[0][i+2],axes=0)\n",
    "            sv1=np.reshape(sv1, -1)\n",
    "\n",
    "        sv2=np.tensordot(save_index[1][0],save_index[1][1],axes=0)\n",
    "        sv2=np.concatenate([sv2[0],sv2[1]])\n",
    "        for j in range(len(save_index[0])-2):\n",
    "            sv2=np.tensordot(sv2,save_index[1][j+2],axes=0)\n",
    "            sv2=np.reshape(sv2, -1)\n",
    "\n",
    "        sv=sv1+sv2\n",
    "        norm_sv = sv/np.linalg.norm(sv)\n",
    "        return norm_sv\n",
    "    except:\n",
    "        sv1=np.tensordot(save_index[0][0],save_index[0][1],axes=0)\n",
    "        sv1=np.concatenate([sv1[0],sv1[1]])\n",
    "        for i in range(len(save_index[0])-2):\n",
    "            sv1=np.tensordot(sv1,save_index[0][i+2],axes=0)\n",
    "            sv1=np.reshape(sv1, -1)\n",
    "        \n",
    "        return sv1"
   ]
  },
  {
   "cell_type": "code",
   "execution_count": 32,
   "metadata": {},
   "outputs": [
    {
     "name": "stdout",
     "output_type": "stream",
     "text": [
      "[0 0 0 0 1 0 0 0 0 0 0 0 0 0 0 0]\n"
     ]
    }
   ],
   "source": [
    "norm_sv=indices_to_sv(save_index)\n",
    "print(norm_sv)"
   ]
  },
  {
   "cell_type": "code",
   "execution_count": 33,
   "metadata": {},
   "outputs": [
    {
     "data": {
      "image/png": "[encoded data removed]",
      "text/plain": [
       "<Figure size 327.397x264.88 with 1 Axes>"
      ]
     },
     "execution_count": 33,
     "metadata": {},
     "output_type": "execute_result"
    }
   ],
   "source": [
    "qc=q.QuantumCircuit(n)\n",
    "qc.initialize(norm_sv)\n",
    "qc.draw('mpl')"
   ]
  },
  {
   "cell_type": "code",
   "execution_count": 34,
   "metadata": {},
   "outputs": [
    {
     "data": {
      "image/png": "[encoded data removed]",
      "text/plain": [
       "<Figure size 504x360 with 1 Axes>"
      ]
     },
     "metadata": {},
     "output_type": "display_data"
    },
    {
     "name": "stdout",
     "output_type": "stream",
     "text": [
      "[0.+0.j 0.+0.j 0.+0.j 0.+0.j 1.+0.j 0.+0.j 0.+0.j 0.+0.j 0.+0.j 0.+0.j\n",
      " 0.+0.j 0.+0.j 0.+0.j 0.+0.j 0.+0.j 0.+0.j]\n"
     ]
    }
   ],
   "source": [
    "simulator = q.Aer.get_backend('statevector_simulator')\n",
    "result = q.execute(qc, simulator).result()\n",
    "counts=result.get_counts()\n",
    "plot=q.visualization.plot_histogram(counts)\n",
    "display(plot)\n",
    "statevector = result.get_statevector()\n",
    "print(statevector)"
   ]
  },
  {
   "cell_type": "code",
   "execution_count": null,
   "metadata": {},
   "outputs": [],
   "source": []
  }
 ],
 "metadata": {
  "kernelspec": {
   "display_name": "Python 3",
   "language": "python",
   "name": "python3"
  },
  "language_info": {
   "codemirror_mode": {
    "name": "ipython",
    "version": 3
   },
   "file_extension": ".py",
   "mimetype": "text/x-python",
   "name": "python",
   "nbconvert_exporter": "python",
   "pygments_lexer": "ipython3",
   "version": "3.8.3"
  }
 },
 "nbformat": 4,
 "nbformat_minor": 4
}
